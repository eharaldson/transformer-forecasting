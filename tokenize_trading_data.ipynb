{
 "cells": [
  {
   "cell_type": "code",
   "execution_count": 9,
   "metadata": {},
   "outputs": [],
   "source": [
    "import pandas as pd \n",
    "import numpy as np \n",
    "import matplotlib.pyplot as plt \n",
    "import math \n",
    "from transformer import GPTLanguageModel as model"
   ]
  },
  {
   "cell_type": "code",
   "execution_count": 10,
   "metadata": {},
   "outputs": [],
   "source": [
    "# Parameters\n",
    "bin_size = 0.2"
   ]
  },
  {
   "cell_type": "code",
   "execution_count": 11,
   "metadata": {},
   "outputs": [
    {
     "data": {
      "text/html": [
       "<div>\n",
       "<style scoped>\n",
       "    .dataframe tbody tr th:only-of-type {\n",
       "        vertical-align: middle;\n",
       "    }\n",
       "\n",
       "    .dataframe tbody tr th {\n",
       "        vertical-align: top;\n",
       "    }\n",
       "\n",
       "    .dataframe thead th {\n",
       "        text-align: right;\n",
       "    }\n",
       "</style>\n",
       "<table border=\"1\" class=\"dataframe\">\n",
       "  <thead>\n",
       "    <tr style=\"text-align: right;\">\n",
       "      <th></th>\n",
       "      <th>unix</th>\n",
       "      <th>date</th>\n",
       "      <th>symbol</th>\n",
       "      <th>open</th>\n",
       "      <th>high</th>\n",
       "      <th>low</th>\n",
       "      <th>close</th>\n",
       "      <th>volume</th>\n",
       "    </tr>\n",
       "  </thead>\n",
       "  <tbody>\n",
       "    <tr>\n",
       "      <th>0</th>\n",
       "      <td>1.675210e+12</td>\n",
       "      <td>31/01/2023 23:00</td>\n",
       "      <td>BTC/USD</td>\n",
       "      <td>23197.91</td>\n",
       "      <td>23197.91</td>\n",
       "      <td>23088.07</td>\n",
       "      <td>23138.09</td>\n",
       "      <td>189986.2721</td>\n",
       "    </tr>\n",
       "    <tr>\n",
       "      <th>1</th>\n",
       "      <td>1.675200e+12</td>\n",
       "      <td>31/01/2023 22:00</td>\n",
       "      <td>BTC/USD</td>\n",
       "      <td>22944.25</td>\n",
       "      <td>23303.72</td>\n",
       "      <td>22886.10</td>\n",
       "      <td>23197.91</td>\n",
       "      <td>485198.6068</td>\n",
       "    </tr>\n",
       "    <tr>\n",
       "      <th>2</th>\n",
       "      <td>1.675200e+12</td>\n",
       "      <td>31/01/2023 21:00</td>\n",
       "      <td>BTC/USD</td>\n",
       "      <td>23106.60</td>\n",
       "      <td>23128.48</td>\n",
       "      <td>22824.34</td>\n",
       "      <td>22944.25</td>\n",
       "      <td>727566.7846</td>\n",
       "    </tr>\n",
       "    <tr>\n",
       "      <th>3</th>\n",
       "      <td>1.675200e+12</td>\n",
       "      <td>31/01/2023 20:00</td>\n",
       "      <td>BTC/USD</td>\n",
       "      <td>23169.34</td>\n",
       "      <td>23169.44</td>\n",
       "      <td>23052.70</td>\n",
       "      <td>23106.60</td>\n",
       "      <td>589078.5118</td>\n",
       "    </tr>\n",
       "    <tr>\n",
       "      <th>4</th>\n",
       "      <td>1.675190e+12</td>\n",
       "      <td>31/01/2023 19:00</td>\n",
       "      <td>BTC/USD</td>\n",
       "      <td>23181.09</td>\n",
       "      <td>23190.00</td>\n",
       "      <td>23100.00</td>\n",
       "      <td>23169.34</td>\n",
       "      <td>344376.3959</td>\n",
       "    </tr>\n",
       "  </tbody>\n",
       "</table>\n",
       "</div>"
      ],
      "text/plain": [
       "           unix              date   symbol      open      high       low  \\\n",
       "0  1.675210e+12  31/01/2023 23:00  BTC/USD  23197.91  23197.91  23088.07   \n",
       "1  1.675200e+12  31/01/2023 22:00  BTC/USD  22944.25  23303.72  22886.10   \n",
       "2  1.675200e+12  31/01/2023 21:00  BTC/USD  23106.60  23128.48  22824.34   \n",
       "3  1.675200e+12  31/01/2023 20:00  BTC/USD  23169.34  23169.44  23052.70   \n",
       "4  1.675190e+12  31/01/2023 19:00  BTC/USD  23181.09  23190.00  23100.00   \n",
       "\n",
       "      close       volume  \n",
       "0  23138.09  189986.2721  \n",
       "1  23197.91  485198.6068  \n",
       "2  22944.25  727566.7846  \n",
       "3  23106.60  589078.5118  \n",
       "4  23169.34  344376.3959  "
      ]
     },
     "execution_count": 11,
     "metadata": {},
     "output_type": "execute_result"
    }
   ],
   "source": [
    "df = pd.read_csv(\"data/BTC-USD_hourly.csv\")\n",
    "df.head()"
   ]
  },
  {
   "cell_type": "code",
   "execution_count": 12,
   "metadata": {},
   "outputs": [],
   "source": [
    "close = df[::-1].close"
   ]
  },
  {
   "cell_type": "code",
   "execution_count": 25,
   "metadata": {},
   "outputs": [],
   "source": [
    "def tokenize_price_data(prices):\n",
    "    percentage_changes = []\n",
    "    for i in range(len(prices)-1):\n",
    "        percentage_changes.append(100*(prices[i+1]-prices[i])/prices[i])\n",
    "\n",
    "    min_change = math.floor(np.min(percentage_changes))\n",
    "    max_change = math.ceil(np.max(percentage_changes))\n",
    "\n",
    "    bin_range = list(np.arange(min_change, max_change, bin_size))\n",
    "\n",
    "    tokenized_data = []\n",
    "    for i in range(len(percentage_changes)):\n",
    "        j = 0\n",
    "        while j < len(bin_range) -1:\n",
    "            if percentage_changes[i] < bin_range[j+1]:\n",
    "                break\n",
    "            j += 1 \n",
    "        tokenized_data.append(j)\n",
    "\n",
    "    return bin_range, tokenized_data"
   ]
  },
  {
   "cell_type": "code",
   "execution_count": 26,
   "metadata": {},
   "outputs": [
    {
     "name": "stdout",
     "output_type": "stream",
     "text": [
      "198\n"
     ]
    }
   ],
   "source": [
    "bins, tokens = tokenize_price_data(close)\n",
    "print(max(tokens))"
   ]
  },
  {
   "cell_type": "code",
   "execution_count": 15,
   "metadata": {},
   "outputs": [],
   "source": [
    "import torch\n",
    "import torch.nn as nn\n",
    "from torch.nn import functional as F"
   ]
  },
  {
   "cell_type": "code",
   "execution_count": 17,
   "metadata": {},
   "outputs": [],
   "source": [
    "# here are all the unique characters that occur in this text\n",
    "chars = sorted(list(set(tokens)))\n",
    "vocab_size = len(chars)\n",
    "# create a mapping from characters to integers\n",
    "stoi = { ch:i for i,ch in enumerate(chars) }\n",
    "itos = { i:ch for i,ch in enumerate(chars) }\n",
    "encode = lambda s: [stoi[c] for c in s] # encoder: take a string, output a list of integers\n",
    "decode = lambda l: [itos[i] for i in l] # decoder: take a list of integers, output a string"
   ]
  },
  {
   "cell_type": "code",
   "execution_count": 21,
   "metadata": {},
   "outputs": [],
   "source": [
    "# hyperparameters\n",
    "batch_size = 16 # how many independent sequences will we process in parallel?\n",
    "block_size = 24 # what is the maximum context length for predictions?\n",
    "max_iters = 5000\n",
    "eval_interval = 500\n",
    "learning_rate = 3e-4\n",
    "device = 'cuda' if torch.cuda.is_available() else 'cpu'\n",
    "eval_iters = 200\n",
    "n_embd = 32\n",
    "n_head = 4\n",
    "n_layer = 4\n",
    "dropout = 0.2\n",
    "# ------------"
   ]
  },
  {
   "cell_type": "code",
   "execution_count": 46,
   "metadata": {},
   "outputs": [
    {
     "name": "stdout",
     "output_type": "stream",
     "text": [
      "0.058154 M parameters\n",
      "step 0: train loss 4.6670, val loss 4.6460\n",
      "step 500: train loss 2.5088, val loss 2.2400\n",
      "step 1000: train loss 2.4626, val loss 2.1318\n",
      "step 1500: train loss 2.4188, val loss 2.1564\n",
      "step 2000: train loss 2.4370, val loss 2.1829\n",
      "step 2500: train loss 2.4191, val loss 2.1543\n",
      "step 3000: train loss 2.4392, val loss 2.1330\n",
      "step 3500: train loss 2.4311, val loss 2.1655\n",
      "step 4000: train loss 2.4217, val loss 2.1644\n",
      "step 4500: train loss 2.4323, val loss 2.1436\n",
      "step 4999: train loss 2.4268, val loss 2.1399\n",
      "torch.Size([1, 24]) tensor([[87, 86, 86, 83, 84, 84, 84, 85, 85, 84, 85, 84, 84, 84, 85, 85, 85, 85,\n",
      "         84, 83, 85, 85, 85, 80]])\n",
      "[121, 120, 120, 117, 118, 118, 118, 119, 119, 118, 119, 118, 118, 118, 119, 119, 119, 119, 118, 117, 119, 119, 119, 114, 85, 85, 83, 85, 84, 86, 85, 85, 83, 87, 85, 85, 84, 85, 84, 84, 84, 84, 85, 85]\n",
      "[85, 85, 85, 84, 85, 84, 85, 84, 84, 85, 84, 85, 85, 85, 82, 84, 84, 85, 85, 84, 85]\n"
     ]
    }
   ],
   "source": [
    "# Train and test splits\n",
    "data = torch.tensor(encode(tokens), dtype=torch.long)\n",
    "n = int(0.9*len(data)) # first 90% will be train, rest val\n",
    "train_data = data[:n]\n",
    "val_data = data[n:]\n",
    "\n",
    "# data loading\n",
    "def get_batch(split):\n",
    "    # generate a small batch of data of inputs x and targets y\n",
    "    data = train_data if split == 'train' else val_data\n",
    "    ix = torch.randint(len(data) - block_size, (batch_size,))\n",
    "    x = torch.stack([data[i:i+block_size] for i in ix])\n",
    "    y = torch.stack([data[i+1:i+block_size+1] for i in ix])\n",
    "    x, y = x.to(device), y.to(device)\n",
    "    return x, y\n",
    "\n",
    "@torch.no_grad()\n",
    "def estimate_loss():\n",
    "    out = {}\n",
    "    model.eval()\n",
    "    for split in ['train', 'val']:\n",
    "        losses = torch.zeros(eval_iters)\n",
    "        for k in range(eval_iters):\n",
    "            X, Y = get_batch(split)\n",
    "            logits, loss = model(X, Y)\n",
    "            losses[k] = loss.item()\n",
    "        out[split] = losses.mean()\n",
    "    model.train()\n",
    "    return out\n",
    "\n",
    "class Head(nn.Module):\n",
    "    \"\"\" one head of self-attention \"\"\"\n",
    "\n",
    "    def __init__(self, head_size):\n",
    "        super().__init__()\n",
    "        self.key = nn.Linear(n_embd, head_size, bias=False)\n",
    "        self.query = nn.Linear(n_embd, head_size, bias=False)\n",
    "        self.value = nn.Linear(n_embd, head_size, bias=False)\n",
    "        self.register_buffer('tril', torch.tril(torch.ones(block_size, block_size)))\n",
    "\n",
    "        self.dropout = nn.Dropout(dropout)\n",
    "\n",
    "    def forward(self, x):\n",
    "        # input of size (batch, time-step, channels)\n",
    "        # output of size (batch, time-step, head size)\n",
    "        B,T,C = x.shape\n",
    "        k = self.key(x)   # (B,T,hs)\n",
    "        q = self.query(x) # (B,T,hs)\n",
    "        # compute attention scores (\"affinities\")\n",
    "        wei = q @ k.transpose(-2,-1) * k.shape[-1]**-0.5 # (B, T, hs) @ (B, hs, T) -> (B, T, T)\n",
    "        wei = wei.masked_fill(self.tril[:T, :T] == 0, float('-inf')) # (B, T, T)\n",
    "        wei = F.softmax(wei, dim=-1) # (B, T, T)\n",
    "        wei = self.dropout(wei)\n",
    "        # perform the weighted aggregation of the values\n",
    "        v = self.value(x) # (B,T,hs)\n",
    "        out = wei @ v # (B, T, T) @ (B, T, hs) -> (B, T, hs)\n",
    "        return out\n",
    "\n",
    "class MultiHeadAttention(nn.Module):\n",
    "    \"\"\" multiple heads of self-attention in parallel \"\"\"\n",
    "\n",
    "    def __init__(self, num_heads, head_size):\n",
    "        super().__init__()\n",
    "        self.heads = nn.ModuleList([Head(head_size) for _ in range(num_heads)])\n",
    "        self.proj = nn.Linear(head_size * num_heads, n_embd)\n",
    "        self.dropout = nn.Dropout(dropout)\n",
    "\n",
    "    def forward(self, x):\n",
    "        out = torch.cat([h(x) for h in self.heads], dim=-1)\n",
    "        out = self.dropout(self.proj(out))\n",
    "        return out\n",
    "\n",
    "class FeedFoward(nn.Module):\n",
    "    \"\"\" a simple linear layer followed by a non-linearity \"\"\"\n",
    "\n",
    "    def __init__(self, n_embd):\n",
    "        super().__init__()\n",
    "        self.net = nn.Sequential(\n",
    "            nn.Linear(n_embd, 4 * n_embd),\n",
    "            nn.ReLU(),\n",
    "            nn.Linear(4 * n_embd, n_embd),\n",
    "            nn.Dropout(dropout),\n",
    "        )\n",
    "\n",
    "    def forward(self, x):\n",
    "        return self.net(x)\n",
    "\n",
    "class Block(nn.Module):\n",
    "    \"\"\" Transformer block: communication followed by computation \"\"\"\n",
    "\n",
    "    def __init__(self, n_embd, n_head):\n",
    "        # n_embd: embedding dimension, n_head: the number of heads we'd like\n",
    "        super().__init__()\n",
    "        head_size = n_embd // n_head\n",
    "        self.sa = MultiHeadAttention(n_head, head_size)\n",
    "        self.ffwd = FeedFoward(n_embd)\n",
    "        self.ln1 = nn.LayerNorm(n_embd)\n",
    "        self.ln2 = nn.LayerNorm(n_embd)\n",
    "\n",
    "    def forward(self, x):\n",
    "        x = x + self.sa(self.ln1(x))\n",
    "        x = x + self.ffwd(self.ln2(x))\n",
    "        return x\n",
    "\n",
    "class GPTLanguageModel(nn.Module):\n",
    "\n",
    "    def __init__(self):\n",
    "        super().__init__()\n",
    "        # each token directly reads off the logits for the next token from a lookup table\n",
    "        self.token_embedding_table = nn.Embedding(vocab_size, n_embd)\n",
    "        self.position_embedding_table = nn.Embedding(block_size, n_embd)\n",
    "        self.blocks = nn.Sequential(*[Block(n_embd, n_head=n_head) for _ in range(n_layer)])\n",
    "        self.ln_f = nn.LayerNorm(n_embd) # final layer norm\n",
    "        self.lm_head = nn.Linear(n_embd, vocab_size)\n",
    "\n",
    "        # better init, not covered in the original GPT video, but important, will cover in followup video\n",
    "        self.apply(self._init_weights)\n",
    "\n",
    "    def _init_weights(self, module):\n",
    "        if isinstance(module, nn.Linear):\n",
    "            torch.nn.init.normal_(module.weight, mean=0.0, std=0.02)\n",
    "            if module.bias is not None:\n",
    "                torch.nn.init.zeros_(module.bias)\n",
    "        elif isinstance(module, nn.Embedding):\n",
    "            torch.nn.init.normal_(module.weight, mean=0.0, std=0.02)\n",
    "\n",
    "    def forward(self, idx, targets=None):\n",
    "        B, T = idx.shape\n",
    "\n",
    "        # idx and targets are both (B,T) tensor of integers\n",
    "        tok_emb = self.token_embedding_table(idx) # (B,T,C)\n",
    "        pos_emb = self.position_embedding_table(torch.arange(T, device=device)) # (T,C)\n",
    "        x = tok_emb + pos_emb # (B,T,C)\n",
    "        x = self.blocks(x) # (B,T,C)\n",
    "        x = self.ln_f(x) # (B,T,C)\n",
    "        logits = self.lm_head(x) # (B,T,vocab_size)\n",
    "\n",
    "        if targets is None:\n",
    "            loss = None\n",
    "        else:\n",
    "            B, T, C = logits.shape\n",
    "            logits = logits.view(B*T, C)\n",
    "            targets = targets.view(B*T)\n",
    "            loss = F.cross_entropy(logits, targets)\n",
    "\n",
    "        return logits, loss\n",
    "\n",
    "    def generate(self, idx, max_new_tokens):\n",
    "        # idx is (B, T) array of indices in the current context\n",
    "        for _ in range(max_new_tokens):\n",
    "            # crop idx to the last block_size tokens\n",
    "            idx_cond = idx[:, -block_size:]\n",
    "            # get the predictions\n",
    "            logits, loss = self(idx_cond)\n",
    "            # focus only on the last time step\n",
    "            logits = logits[:, -1, :] # becomes (B, C)\n",
    "            # apply softmax to get probabilities\n",
    "            probs = F.softmax(logits, dim=-1) # (B, C)\n",
    "            # sample from the distribution\n",
    "            idx_next = torch.multinomial(probs, num_samples=1) # (B, 1)\n",
    "            # append sampled index to the running sequence\n",
    "            idx = torch.cat((idx, idx_next), dim=1) # (B, T+1)\n",
    "        return idx\n",
    "    \n",
    "model = GPTLanguageModel()\n",
    "m = model.to(device)\n",
    "# print the number of parameters in the model\n",
    "print(sum(p.numel() for p in m.parameters())/1e6, 'M parameters')\n",
    "\n",
    "# create a PyTorch optimizer\n",
    "optimizer = torch.optim.AdamW(model.parameters(), lr=learning_rate)\n",
    "\n",
    "for iter in range(max_iters):\n",
    "\n",
    "    # every once in a while evaluate the loss on train and val sets\n",
    "    if iter % eval_interval == 0 or iter == max_iters - 1:\n",
    "        losses = estimate_loss()\n",
    "        print(f\"step {iter}: train loss {losses['train']:.4f}, val loss {losses['val']:.4f}\")\n",
    "\n",
    "    # sample a batch of data\n",
    "    xb, yb = get_batch('train')\n",
    "\n",
    "    # evaluate the loss\n",
    "    logits, loss = model(xb, yb)\n",
    "    optimizer.zero_grad(set_to_none=True)\n",
    "    loss.backward()\n",
    "    optimizer.step()\n",
    "\n",
    "# generate from the model\n",
    "start_index = 60400\n",
    "x_test = torch.asarray(tokens[start_index:start_index+block_size]).reshape((1, 24))\n",
    "\n",
    "print(x_test.shape, x_test)\n",
    "\n",
    "y_pred = decode(m.generate(x_test, max_new_tokens=20)[0].tolist())\n",
    "y_test = tokens[start_index+block_size:start_index+block_size+21]\n",
    "\n",
    "print(y_pred)\n",
    "print(y_test)"
   ]
  },
  {
   "cell_type": "code",
   "execution_count": 51,
   "metadata": {},
   "outputs": [
    {
     "name": "stdout",
     "output_type": "stream",
     "text": [
      "[83, 85, 85, 85, 81, 85, 85, 83, 85, 83, 85, 87, 85, 83, 85, 84, 75, 85, 86, 85, 84, 84, 86, 84, 83, 85, 85, 85, 83, 85]\n",
      "[82, 90, 78, 85, 84, 88, 84, 87, 85, 80, 83, 85, 90, 87, 84, 86, 80, 78, 84, 87, 80, 85, 82, 84, 88, 87, 86, 79, 84, 87]\n",
      "[117, 87, 83, 84, 88, 84, 81, 86, 80, 78, 84, 97, 88, 88, 87, 89, 92, 88, 86, 81, 83, 81, 82, 84, 84, 88, 84, 88, 90, 84, 87]\n"
     ]
    }
   ],
   "source": [
    "print(tokens[n-30:n])\n",
    "print(tokens[n:n+30])\n",
    "\n",
    "y_pred = decode(m.generate(torch.asarray(tokens[n-30:n]).reshape((30,1)), max_new_tokens=30)[0].tolist())\n",
    "print(y_pred)"
   ]
  },
  {
   "cell_type": "code",
   "execution_count": 27,
   "metadata": {},
   "outputs": [
    {
     "name": "stdout",
     "output_type": "stream",
     "text": [
      "64135\n"
     ]
    }
   ],
   "source": [
    "print(len(tokens))"
   ]
  },
  {
   "cell_type": "code",
   "execution_count": 37,
   "metadata": {},
   "outputs": [
    {
     "name": "stdout",
     "output_type": "stream",
     "text": [
      "torch.Size([1, 24]) tensor([[87, 86, 86, 83, 84, 84, 84, 85, 85, 84, 85, 84, 84, 84, 85, 85, 85, 85,\n",
      "         84, 83, 85, 85, 85, 80]])\n"
     ]
    }
   ],
   "source": [
    "start_index = 60400\n",
    "x_test = torch.asarray(tokens[start_index:start_index+block_size]).reshape((1, 24))\n",
    "\n",
    "print(x_test.shape, x_test)"
   ]
  },
  {
   "cell_type": "code",
   "execution_count": 40,
   "metadata": {},
   "outputs": [],
   "source": [
    "y_pred = decode(m.generate(context, max_new_tokens=20)[0].tolist())"
   ]
  },
  {
   "cell_type": "code",
   "execution_count": 41,
   "metadata": {},
   "outputs": [
    {
     "name": "stdout",
     "output_type": "stream",
     "text": [
      "[1, 102, 101, 83, 82, 82, 85, 85, 87, 84, 83, 89, 84, 83, 84, 88, 85, 86, 84, 83, 86]\n"
     ]
    }
   ],
   "source": [
    "print(y_pred)"
   ]
  },
  {
   "cell_type": "code",
   "execution_count": 44,
   "metadata": {},
   "outputs": [],
   "source": [
    "y_test = tokens[start_index+block_size:start_index+block_size+21]"
   ]
  },
  {
   "cell_type": "code",
   "execution_count": 45,
   "metadata": {},
   "outputs": [
    {
     "name": "stdout",
     "output_type": "stream",
     "text": [
      "[1, 102, 101, 83, 82, 82, 85, 85, 87, 84, 83, 89, 84, 83, 84, 88, 85, 86, 84, 83, 86]\n",
      "[85, 85, 85, 84, 85, 84, 85, 84, 84, 85, 84, 85, 85, 85, 82, 84, 84, 85, 85, 84, 85]\n"
     ]
    }
   ],
   "source": [
    "print(y_pred)\n",
    "print(y_test)"
   ]
  },
  {
   "cell_type": "code",
   "execution_count": null,
   "metadata": {},
   "outputs": [],
   "source": []
  }
 ],
 "metadata": {
  "kernelspec": {
   "display_name": "Python 3",
   "language": "python",
   "name": "python3"
  },
  "language_info": {
   "codemirror_mode": {
    "name": "ipython",
    "version": 3
   },
   "file_extension": ".py",
   "mimetype": "text/x-python",
   "name": "python",
   "nbconvert_exporter": "python",
   "pygments_lexer": "ipython3",
   "version": "3.9.6"
  }
 },
 "nbformat": 4,
 "nbformat_minor": 2
}
